{
 "cells": [
  {
   "cell_type": "code",
   "execution_count": 1,
   "id": "d6834d69",
   "metadata": {},
   "outputs": [],
   "source": [
    "# Importing libraries\n",
    "from mpl_toolkits.mplot3d import Axes3D\n",
    "import matplotlib.pyplot as plt\n",
    "from matplotlib import cm\n",
    "from matplotlib.ticker import LinearLocator, FormatStrFormatter\n",
    "import numpy as np\n",
    "from random import random, seed\n",
    "import sklearn as skl\n",
    "\n",
    "\n",
    "# Defining functions\n",
    "\n",
    "def FrankeFunction(x,y):\n",
    "    term1 = 0.75*np.exp(-(0.25*(9*x-2)**2) - 0.25*((9*y-2)**2))\n",
    "    term2 = 0.75*np.exp(-((9*x+1)**2)/49.0 - 0.1*(9*y+1))\n",
    "    term3 = 0.5*np.exp(-(9*x-7)**2/4.0 - 0.25*((9*y-3)**2))\n",
    "    term4 = -0.2*np.exp(-(9*x-4)**2 - (9*y-7)**2)\n",
    "    return term1 + term2 + term3 + term4\n",
    "\n",
    "def R2(y_data, y_model):\n",
    "    return 1 - np.sum((y_data - y_model) ** 2) / np.sum((y_data - np.mean(y_data)) ** 2)\n",
    "\n",
    "def MSE(y_data,y_model):\n",
    "    n = np.size(y_model)\n",
    "    return np.sum((y_data-y_model)**2)/n"
   ]
  },
  {
   "cell_type": "code",
   "execution_count": 2,
   "id": "2b127694",
   "metadata": {},
   "outputs": [],
   "source": [
    "def create_X(x, y, n ):   ## Hvorfor denne formen?\n",
    "    if len(x.shape) > 1:\n",
    "        x = np.ravel(x)\n",
    "        y = np.ravel(y)\n",
    "\n",
    "    N = len(x)\n",
    "    l = int((n+1)*(n+2)/2)      # Number of elements in beta\n",
    "    X = np.ones((N,l))\n",
    "\n",
    "    for i in range(1,n+1):\n",
    "        q = int((i)*(i+1)/2)\n",
    "        for k in range(i+1):\n",
    "            X[:,q+k] = (x**(i-k))*(y**k)\n",
    "\n",
    "    return X\n",
    "\n",
    "def linreg(x, y, n):\n",
    "    X = create_X(x, y, n)\n",
    "    z = FrankeFunction(x, y)\n",
    "\n",
    "    # Solving for beta\n",
    "    beta = np.linalg.inv(X.T @ X) @ X.T @ z\n",
    "    return beta"
   ]
  },
  {
   "cell_type": "code",
   "execution_count": 3,
   "id": "ca3c1fb0",
   "metadata": {},
   "outputs": [],
   "source": [
    "# Generating data\n",
    "N = 1000\n",
    "x = np.random.uniform(0, 1, N)\n",
    "y = np.random.uniform(0, 1, N)\n",
    "\n",
    "# Fit an n-degree polynomial\n",
    "n = 5\n",
    "beta = linreg(x, y, n)"
   ]
  },
  {
   "cell_type": "code",
   "execution_count": 4,
   "id": "4f84a6f6",
   "metadata": {},
   "outputs": [
    {
     "data": {
      "text/plain": [
       "[<matplotlib.lines.Line2D at 0x7f074bcc5fd0>]"
      ]
     },
     "execution_count": 4,
     "metadata": {},
     "output_type": "execute_result"
    },
    {
     "data": {
      "image/png": "[encoded data removed]",
      "text/plain": [
       "<Figure size 432x288 with 1 Axes>"
      ]
     },
     "metadata": {
      "needs_background": "light"
     },
     "output_type": "display_data"
    }
   ],
   "source": [
    "x0 = np.linspace(0, 1, 100001)\n",
    "z0 = FrankeFunction(x0, 0)\n",
    "z0_tilde = create_X(x0, 0, n) @ beta\n",
    "plt.plot(x0, z0)\n",
    "plt.plot(x0, z0_tilde)\n",
    "\n"
   ]
  },
  {
   "cell_type": "code",
   "execution_count": 5,
   "id": "8572b6a5",
   "metadata": {},
   "outputs": [
    {
     "name": "stdout",
     "output_type": "stream",
     "text": [
      "0.0018922999880326469\n"
     ]
    }
   ],
   "source": [
    "z = FrankeFunction(x, y)\n",
    "z_tilde = create_X(x, y, n) @ beta\n",
    "print(MSE(z, z_tilde))"
   ]
  },
  {
   "cell_type": "code",
   "execution_count": 20,
   "id": "e93e07b0",
   "metadata": {},
   "outputs": [],
   "source": [
    "def bootstrap_2d_lin(x, y, B, deg):\n",
    "    \"\"\"Returns estimated distributions of beta estimators.\"\"\"\n",
    "    t = np.zeros(B)\n",
    "    n_datapoints = len(x)\n",
    "    \n",
    "    beta = linreg(x, y, deg)\n",
    "    \n",
    "    distribution = np.zeros((len(beta), B))\n",
    "    for b in range(B):\n",
    "        datapoints = np.random.randint(0,n_datapoints,n_datapoints)\n",
    "        x_b = x[datapoints]\n",
    "        y_b = y[datapoints]\n",
    "        beta_b = linreg(x_b, y_b, deg)\n",
    "        distribution[:, b] = beta_b\n",
    "    return distribution"
   ]
  },
  {
   "cell_type": "code",
   "execution_count": 21,
   "id": "46e27362",
   "metadata": {},
   "outputs": [],
   "source": [
    "distribution = bootstrap_2d_lin(x, y, 1000, 5)\n"
   ]
  },
  {
   "cell_type": "code",
   "execution_count": 29,
   "id": "1b2d64fb",
   "metadata": {},
   "outputs": [
    {
     "data": {
      "image/png": "[encoded data removed]",
      "text/plain": [
       "<Figure size 432x288 with 1 Axes>"
      ]
     },
     "metadata": {
      "needs_background": "light"
     },
     "output_type": "display_data"
    }
   ],
   "source": [
    "# Plots estimated distribution for the i'th parameter of the model\n",
    "i = 20\n",
    "plt.hist(distribution[i, :])\n",
    "plt.show()"
   ]
  }
 ],
 "metadata": {
  "kernelspec": {
   "display_name": "Python 3 (ipykernel)",
   "language": "python",
   "name": "python3"
  },
  "language_info": {
   "codemirror_mode": {
    "name": "ipython",
    "version": 3
   },
   "file_extension": ".py",
   "mimetype": "text/x-python",
   "name": "python",
   "nbconvert_exporter": "python",
   "pygments_lexer": "ipython3",
   "version": "3.8.11"
  }
 },
 "nbformat": 4,
 "nbformat_minor": 5
}
